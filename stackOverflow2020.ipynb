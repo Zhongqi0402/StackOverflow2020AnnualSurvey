{
 "cells": [
  {
   "cell_type": "markdown",
   "id": "0da7ff43",
   "metadata": {},
   "source": [
    "# Stackoverflow 2020 curvey"
   ]
  },
  {
   "cell_type": "markdown",
   "id": "23509f59",
   "metadata": {},
   "source": [
    "### For this data, there are three questions proposed. "
   ]
  },
  {
   "cell_type": "markdown",
   "id": "b2ca476c",
   "metadata": {},
   "source": [
    "#### Three real-world questions of the following data\n",
    "1, Do people who start coding early have a higher pay in their career?<br>\n",
    "2, Do people who start coding early will tend to be a professional developer?<br>\n",
    "3, Are people with more coding experience paid more?"
   ]
  },
  {
   "cell_type": "markdown",
   "id": "b32ebd28",
   "metadata": {},
   "source": [
    "The reason behind these three questions is that personally I didn't start coding early and I felt really left behind when I first started univeristy. A lot of my peers at the university have lots of coding experience before they come while I have none. Therefore, I would like to investigate the relationip between these variables."
   ]
  },
  {
   "cell_type": "code",
   "execution_count": 32,
   "id": "c77ac3ca",
   "metadata": {},
   "outputs": [],
   "source": [
    "# import necessary libraries\n",
    "import pandas as pd\n",
    "import numpy as np\n",
    "import seaborn as sns\n",
    "import matplotlib.pyplot as plt\n",
    "%matplotlib inline"
   ]
  },
  {
   "cell_type": "code",
   "execution_count": 33,
   "id": "0e3813dd",
   "metadata": {},
   "outputs": [
    {
     "data": {
      "text/html": [
       "<div>\n",
       "<style scoped>\n",
       "    .dataframe tbody tr th:only-of-type {\n",
       "        vertical-align: middle;\n",
       "    }\n",
       "\n",
       "    .dataframe tbody tr th {\n",
       "        vertical-align: top;\n",
       "    }\n",
       "\n",
       "    .dataframe thead th {\n",
       "        text-align: right;\n",
       "    }\n",
       "</style>\n",
       "<table border=\"1\" class=\"dataframe\">\n",
       "  <thead>\n",
       "    <tr style=\"text-align: right;\">\n",
       "      <th></th>\n",
       "      <th>Respondent</th>\n",
       "      <th>MainBranch</th>\n",
       "      <th>Hobbyist</th>\n",
       "      <th>Age</th>\n",
       "      <th>Age1stCode</th>\n",
       "      <th>CompFreq</th>\n",
       "      <th>CompTotal</th>\n",
       "      <th>ConvertedComp</th>\n",
       "      <th>Country</th>\n",
       "      <th>CurrencyDesc</th>\n",
       "      <th>...</th>\n",
       "      <th>SurveyEase</th>\n",
       "      <th>SurveyLength</th>\n",
       "      <th>Trans</th>\n",
       "      <th>UndergradMajor</th>\n",
       "      <th>WebframeDesireNextYear</th>\n",
       "      <th>WebframeWorkedWith</th>\n",
       "      <th>WelcomeChange</th>\n",
       "      <th>WorkWeekHrs</th>\n",
       "      <th>YearsCode</th>\n",
       "      <th>YearsCodePro</th>\n",
       "    </tr>\n",
       "  </thead>\n",
       "  <tbody>\n",
       "    <tr>\n",
       "      <th>0</th>\n",
       "      <td>1</td>\n",
       "      <td>I am a developer by profession</td>\n",
       "      <td>Yes</td>\n",
       "      <td>NaN</td>\n",
       "      <td>13</td>\n",
       "      <td>Monthly</td>\n",
       "      <td>NaN</td>\n",
       "      <td>NaN</td>\n",
       "      <td>Germany</td>\n",
       "      <td>European Euro</td>\n",
       "      <td>...</td>\n",
       "      <td>Neither easy nor difficult</td>\n",
       "      <td>Appropriate in length</td>\n",
       "      <td>No</td>\n",
       "      <td>Computer science, computer engineering, or sof...</td>\n",
       "      <td>ASP.NET Core</td>\n",
       "      <td>ASP.NET;ASP.NET Core</td>\n",
       "      <td>Just as welcome now as I felt last year</td>\n",
       "      <td>50.0</td>\n",
       "      <td>36</td>\n",
       "      <td>27</td>\n",
       "    </tr>\n",
       "    <tr>\n",
       "      <th>1</th>\n",
       "      <td>2</td>\n",
       "      <td>I am a developer by profession</td>\n",
       "      <td>No</td>\n",
       "      <td>NaN</td>\n",
       "      <td>19</td>\n",
       "      <td>NaN</td>\n",
       "      <td>NaN</td>\n",
       "      <td>NaN</td>\n",
       "      <td>United Kingdom</td>\n",
       "      <td>Pound sterling</td>\n",
       "      <td>...</td>\n",
       "      <td>NaN</td>\n",
       "      <td>NaN</td>\n",
       "      <td>NaN</td>\n",
       "      <td>Computer science, computer engineering, or sof...</td>\n",
       "      <td>NaN</td>\n",
       "      <td>NaN</td>\n",
       "      <td>Somewhat more welcome now than last year</td>\n",
       "      <td>NaN</td>\n",
       "      <td>7</td>\n",
       "      <td>4</td>\n",
       "    </tr>\n",
       "    <tr>\n",
       "      <th>2</th>\n",
       "      <td>3</td>\n",
       "      <td>I code primarily as a hobby</td>\n",
       "      <td>Yes</td>\n",
       "      <td>NaN</td>\n",
       "      <td>15</td>\n",
       "      <td>NaN</td>\n",
       "      <td>NaN</td>\n",
       "      <td>NaN</td>\n",
       "      <td>Russian Federation</td>\n",
       "      <td>NaN</td>\n",
       "      <td>...</td>\n",
       "      <td>Neither easy nor difficult</td>\n",
       "      <td>Appropriate in length</td>\n",
       "      <td>NaN</td>\n",
       "      <td>NaN</td>\n",
       "      <td>NaN</td>\n",
       "      <td>NaN</td>\n",
       "      <td>Somewhat more welcome now than last year</td>\n",
       "      <td>NaN</td>\n",
       "      <td>4</td>\n",
       "      <td>NaN</td>\n",
       "    </tr>\n",
       "    <tr>\n",
       "      <th>3</th>\n",
       "      <td>4</td>\n",
       "      <td>I am a developer by profession</td>\n",
       "      <td>Yes</td>\n",
       "      <td>25.0</td>\n",
       "      <td>18</td>\n",
       "      <td>NaN</td>\n",
       "      <td>NaN</td>\n",
       "      <td>NaN</td>\n",
       "      <td>Albania</td>\n",
       "      <td>Albanian lek</td>\n",
       "      <td>...</td>\n",
       "      <td>NaN</td>\n",
       "      <td>NaN</td>\n",
       "      <td>No</td>\n",
       "      <td>Computer science, computer engineering, or sof...</td>\n",
       "      <td>NaN</td>\n",
       "      <td>NaN</td>\n",
       "      <td>Somewhat less welcome now than last year</td>\n",
       "      <td>40.0</td>\n",
       "      <td>7</td>\n",
       "      <td>4</td>\n",
       "    </tr>\n",
       "    <tr>\n",
       "      <th>4</th>\n",
       "      <td>5</td>\n",
       "      <td>I used to be a developer by profession, but no...</td>\n",
       "      <td>Yes</td>\n",
       "      <td>31.0</td>\n",
       "      <td>16</td>\n",
       "      <td>NaN</td>\n",
       "      <td>NaN</td>\n",
       "      <td>NaN</td>\n",
       "      <td>United States</td>\n",
       "      <td>NaN</td>\n",
       "      <td>...</td>\n",
       "      <td>Easy</td>\n",
       "      <td>Too short</td>\n",
       "      <td>No</td>\n",
       "      <td>Computer science, computer engineering, or sof...</td>\n",
       "      <td>Django;Ruby on Rails</td>\n",
       "      <td>Ruby on Rails</td>\n",
       "      <td>Just as welcome now as I felt last year</td>\n",
       "      <td>NaN</td>\n",
       "      <td>15</td>\n",
       "      <td>8</td>\n",
       "    </tr>\n",
       "  </tbody>\n",
       "</table>\n",
       "<p>5 rows × 61 columns</p>\n",
       "</div>"
      ],
      "text/plain": [
       "   Respondent                                         MainBranch Hobbyist  \\\n",
       "0           1                     I am a developer by profession      Yes   \n",
       "1           2                     I am a developer by profession       No   \n",
       "2           3                        I code primarily as a hobby      Yes   \n",
       "3           4                     I am a developer by profession      Yes   \n",
       "4           5  I used to be a developer by profession, but no...      Yes   \n",
       "\n",
       "    Age Age1stCode CompFreq  CompTotal  ConvertedComp             Country  \\\n",
       "0   NaN         13  Monthly        NaN            NaN             Germany   \n",
       "1   NaN         19      NaN        NaN            NaN      United Kingdom   \n",
       "2   NaN         15      NaN        NaN            NaN  Russian Federation   \n",
       "3  25.0         18      NaN        NaN            NaN             Albania   \n",
       "4  31.0         16      NaN        NaN            NaN       United States   \n",
       "\n",
       "     CurrencyDesc  ...                  SurveyEase           SurveyLength  \\\n",
       "0   European Euro  ...  Neither easy nor difficult  Appropriate in length   \n",
       "1  Pound sterling  ...                         NaN                    NaN   \n",
       "2             NaN  ...  Neither easy nor difficult  Appropriate in length   \n",
       "3    Albanian lek  ...                         NaN                    NaN   \n",
       "4             NaN  ...                        Easy              Too short   \n",
       "\n",
       "  Trans                                     UndergradMajor  \\\n",
       "0    No  Computer science, computer engineering, or sof...   \n",
       "1   NaN  Computer science, computer engineering, or sof...   \n",
       "2   NaN                                                NaN   \n",
       "3    No  Computer science, computer engineering, or sof...   \n",
       "4    No  Computer science, computer engineering, or sof...   \n",
       "\n",
       "  WebframeDesireNextYear    WebframeWorkedWith  \\\n",
       "0           ASP.NET Core  ASP.NET;ASP.NET Core   \n",
       "1                    NaN                   NaN   \n",
       "2                    NaN                   NaN   \n",
       "3                    NaN                   NaN   \n",
       "4   Django;Ruby on Rails         Ruby on Rails   \n",
       "\n",
       "                              WelcomeChange WorkWeekHrs YearsCode YearsCodePro  \n",
       "0   Just as welcome now as I felt last year        50.0        36           27  \n",
       "1  Somewhat more welcome now than last year         NaN         7            4  \n",
       "2  Somewhat more welcome now than last year         NaN         4          NaN  \n",
       "3  Somewhat less welcome now than last year        40.0         7            4  \n",
       "4   Just as welcome now as I felt last year         NaN        15            8  \n",
       "\n",
       "[5 rows x 61 columns]"
      ]
     },
     "execution_count": 33,
     "metadata": {},
     "output_type": "execute_result"
    }
   ],
   "source": [
    "# read in our data\n",
    "df = pd.read_csv('stack-overflow-developer-survey-2020/survey_results_public.csv')\n",
    "df.head()"
   ]
  },
  {
   "cell_type": "markdown",
   "id": "79470ae0",
   "metadata": {},
   "source": [
    "#### Question 1: Do people who start coding early have a higher pay in their career?"
   ]
  },
  {
   "cell_type": "code",
   "execution_count": 34,
   "id": "70722eac",
   "metadata": {},
   "outputs": [
    {
     "data": {
      "text/html": [
       "<div>\n",
       "<style scoped>\n",
       "    .dataframe tbody tr th:only-of-type {\n",
       "        vertical-align: middle;\n",
       "    }\n",
       "\n",
       "    .dataframe tbody tr th {\n",
       "        vertical-align: top;\n",
       "    }\n",
       "\n",
       "    .dataframe thead th {\n",
       "        text-align: right;\n",
       "    }\n",
       "</style>\n",
       "<table border=\"1\" class=\"dataframe\">\n",
       "  <thead>\n",
       "    <tr style=\"text-align: right;\">\n",
       "      <th></th>\n",
       "      <th>Age1stCode</th>\n",
       "      <th>ConvertedComp</th>\n",
       "    </tr>\n",
       "  </thead>\n",
       "  <tbody>\n",
       "    <tr>\n",
       "      <th>0</th>\n",
       "      <td>13</td>\n",
       "      <td>NaN</td>\n",
       "    </tr>\n",
       "    <tr>\n",
       "      <th>1</th>\n",
       "      <td>19</td>\n",
       "      <td>NaN</td>\n",
       "    </tr>\n",
       "    <tr>\n",
       "      <th>2</th>\n",
       "      <td>15</td>\n",
       "      <td>NaN</td>\n",
       "    </tr>\n",
       "    <tr>\n",
       "      <th>3</th>\n",
       "      <td>18</td>\n",
       "      <td>NaN</td>\n",
       "    </tr>\n",
       "    <tr>\n",
       "      <th>4</th>\n",
       "      <td>16</td>\n",
       "      <td>NaN</td>\n",
       "    </tr>\n",
       "  </tbody>\n",
       "</table>\n",
       "</div>"
      ],
      "text/plain": [
       "  Age1stCode  ConvertedComp\n",
       "0         13            NaN\n",
       "1         19            NaN\n",
       "2         15            NaN\n",
       "3         18            NaN\n",
       "4         16            NaN"
      ]
     },
     "execution_count": 34,
     "metadata": {},
     "output_type": "execute_result"
    }
   ],
   "source": [
    "# Gather and access data, slice the dataframe for our first question\n",
    "df_1 = df[['Age1stCode', 'ConvertedComp']]\n",
    "df_1.head()"
   ]
  },
  {
   "cell_type": "code",
   "execution_count": 35,
   "id": "39c2f7e5",
   "metadata": {},
   "outputs": [
    {
     "name": "stderr",
     "output_type": "stream",
     "text": [
      "<ipython-input-35-39b5a087a915>:3: SettingWithCopyWarning: \n",
      "A value is trying to be set on a copy of a slice from a DataFrame\n",
      "\n",
      "See the caveats in the documentation: https://pandas.pydata.org/pandas-docs/stable/user_guide/indexing.html#returning-a-view-versus-a-copy\n",
      "  df_1.dropna(subset=['ConvertedComp'], axis=0, inplace=True)\n"
     ]
    },
    {
     "data": {
      "text/html": [
       "<div>\n",
       "<style scoped>\n",
       "    .dataframe tbody tr th:only-of-type {\n",
       "        vertical-align: middle;\n",
       "    }\n",
       "\n",
       "    .dataframe tbody tr th {\n",
       "        vertical-align: top;\n",
       "    }\n",
       "\n",
       "    .dataframe thead th {\n",
       "        text-align: right;\n",
       "    }\n",
       "</style>\n",
       "<table border=\"1\" class=\"dataframe\">\n",
       "  <thead>\n",
       "    <tr style=\"text-align: right;\">\n",
       "      <th></th>\n",
       "      <th>Age1stCode</th>\n",
       "      <th>ConvertedComp</th>\n",
       "    </tr>\n",
       "  </thead>\n",
       "  <tbody>\n",
       "    <tr>\n",
       "      <th>7</th>\n",
       "      <td>12</td>\n",
       "      <td>116000.0</td>\n",
       "    </tr>\n",
       "    <tr>\n",
       "      <th>9</th>\n",
       "      <td>14</td>\n",
       "      <td>32315.0</td>\n",
       "    </tr>\n",
       "    <tr>\n",
       "      <th>10</th>\n",
       "      <td>13</td>\n",
       "      <td>40070.0</td>\n",
       "    </tr>\n",
       "    <tr>\n",
       "      <th>11</th>\n",
       "      <td>42</td>\n",
       "      <td>14268.0</td>\n",
       "    </tr>\n",
       "    <tr>\n",
       "      <th>12</th>\n",
       "      <td>14</td>\n",
       "      <td>38916.0</td>\n",
       "    </tr>\n",
       "  </tbody>\n",
       "</table>\n",
       "</div>"
      ],
      "text/plain": [
       "   Age1stCode  ConvertedComp\n",
       "7          12       116000.0\n",
       "9          14        32315.0\n",
       "10         13        40070.0\n",
       "11         42        14268.0\n",
       "12         14        38916.0"
      ]
     },
     "execution_count": 35,
     "metadata": {},
     "output_type": "execute_result"
    }
   ],
   "source": [
    "# Clean the data\n",
    "# Drop any missing values\n",
    "df_1.dropna(subset=['ConvertedComp'], axis=0, inplace=True)\n",
    "df_1.head()"
   ]
  },
  {
   "cell_type": "code",
   "execution_count": 36,
   "id": "e2d8d3a1",
   "metadata": {},
   "outputs": [
    {
     "data": {
      "text/plain": [
       "Age1stCode       85\n",
       "ConvertedComp     0\n",
       "dtype: int64"
      ]
     },
     "execution_count": 36,
     "metadata": {},
     "output_type": "execute_result"
    }
   ],
   "source": [
    "# Check work\n",
    "df_1.isnull().sum()"
   ]
  },
  {
   "cell_type": "code",
   "execution_count": 37,
   "id": "1eabcdc2",
   "metadata": {},
   "outputs": [
    {
     "name": "stderr",
     "output_type": "stream",
     "text": [
      "/Users/zhongqi_yue/opt/anaconda3/lib/python3.8/site-packages/pandas/core/series.py:4509: SettingWithCopyWarning: \n",
      "A value is trying to be set on a copy of a slice from a DataFrame\n",
      "\n",
      "See the caveats in the documentation: https://pandas.pydata.org/pandas-docs/stable/user_guide/indexing.html#returning-a-view-versus-a-copy\n",
      "  return super().replace(\n",
      "<ipython-input-37-9a589e1edb66>:4: SettingWithCopyWarning: \n",
      "A value is trying to be set on a copy of a slice from a DataFrame.\n",
      "Try using .loc[row_indexer,col_indexer] = value instead\n",
      "\n",
      "See the caveats in the documentation: https://pandas.pydata.org/pandas-docs/stable/user_guide/indexing.html#returning-a-view-versus-a-copy\n",
      "  df_1['Age1stCode'] = pd.to_numeric(df_1['Age1stCode'], errors='coerce') # convert object type to numerical value\n"
     ]
    },
    {
     "data": {
      "text/plain": [
       "Age1stCode       float64\n",
       "ConvertedComp    float64\n",
       "dtype: object"
      ]
     },
     "execution_count": 37,
     "metadata": {},
     "output_type": "execute_result"
    }
   ],
   "source": [
    "# replace categorical varibale with an integer string\n",
    "# 4 is reasonable here because 3 and below would be too young to start coding\n",
    "df_1['Age1stCode'].replace(to_replace='Younger than 5 years', value='4', inplace=True)\n",
    "df_1['Age1stCode'] = pd.to_numeric(df_1['Age1stCode'], errors='coerce') # convert object type to numerical value\n",
    "df_1.dtypes"
   ]
  },
  {
   "cell_type": "code",
   "execution_count": 38,
   "id": "c36cfd06",
   "metadata": {},
   "outputs": [
    {
     "name": "stderr",
     "output_type": "stream",
     "text": [
      "/Users/zhongqi_yue/opt/anaconda3/lib/python3.8/site-packages/pandas/core/series.py:4463: SettingWithCopyWarning: \n",
      "A value is trying to be set on a copy of a slice from a DataFrame\n",
      "\n",
      "See the caveats in the documentation: https://pandas.pydata.org/pandas-docs/stable/user_guide/indexing.html#returning-a-view-versus-a-copy\n",
      "  return super().fillna(\n"
     ]
    },
    {
     "data": {
      "text/plain": [
       "Age1stCode       float64\n",
       "ConvertedComp    float64\n",
       "dtype: object"
      ]
     },
     "execution_count": 38,
     "metadata": {},
     "output_type": "execute_result"
    }
   ],
   "source": [
    "# replace missing values in Age1stCode column with the column mean value\n",
    "df_1['Age1stCode'].fillna(np.mean(df_1['Age1stCode']), inplace=True)\n",
    "df_1.isnull().sum()\n",
    "df_1.dtypes"
   ]
  },
  {
   "cell_type": "code",
   "execution_count": 39,
   "id": "c94d7eaa",
   "metadata": {},
   "outputs": [
    {
     "data": {
      "text/plain": [
       "<AxesSubplot:xlabel='Age1stCode', ylabel='ConvertedComp'>"
      ]
     },
     "execution_count": 39,
     "metadata": {},
     "output_type": "execute_result"
    },
    {
     "data": {
      "image/png": "[encoded data removed]",
      "text/plain": [
       "<Figure size 432x288 with 1 Axes>"
      ]
     },
     "metadata": {
      "needs_background": "light"
     },
     "output_type": "display_data"
    }
   ],
   "source": [
    "# Visualization of data\n",
    "# use a scatterplot to see if there are any obviouse relationships\n",
    "sns.scatterplot(x='Age1stCode', y='ConvertedComp', data=df_1)"
   ]
  },
  {
   "cell_type": "markdown",
   "id": "2e1886a9",
   "metadata": {},
   "source": [
    "#### Question 2: Do people who start coding early will tend to be a professional developer?"
   ]
  },
  {
   "cell_type": "code",
   "execution_count": 40,
   "id": "47fa7f3e",
   "metadata": {},
   "outputs": [
    {
     "name": "stdout",
     "output_type": "stream",
     "text": [
      "<class 'pandas.core.frame.DataFrame'>\n",
      "RangeIndex: 64461 entries, 0 to 64460\n",
      "Data columns (total 2 columns):\n",
      " #   Column      Non-Null Count  Dtype \n",
      "---  ------      --------------  ----- \n",
      " 0   Age1stCode  57900 non-null  object\n",
      " 1   MainBranch  64162 non-null  object\n",
      "dtypes: object(2)\n",
      "memory usage: 1007.3+ KB\n"
     ]
    }
   ],
   "source": [
    "# Gather and Access data\n",
    "# slice the dataframe for our second question\n",
    "df_2 = df[['Age1stCode', 'MainBranch']]\n",
    "df_2.info()"
   ]
  },
  {
   "cell_type": "code",
   "execution_count": 41,
   "id": "467a4537",
   "metadata": {},
   "outputs": [
    {
     "name": "stderr",
     "output_type": "stream",
     "text": [
      "<ipython-input-41-f735e1f5dc6c>:3: SettingWithCopyWarning: \n",
      "A value is trying to be set on a copy of a slice from a DataFrame\n",
      "\n",
      "See the caveats in the documentation: https://pandas.pydata.org/pandas-docs/stable/user_guide/indexing.html#returning-a-view-versus-a-copy\n",
      "  df_2.dropna(subset=['MainBranch'], axis=0, inplace=True)\n",
      "/Users/zhongqi_yue/opt/anaconda3/lib/python3.8/site-packages/pandas/core/series.py:4509: SettingWithCopyWarning: \n",
      "A value is trying to be set on a copy of a slice from a DataFrame\n",
      "\n",
      "See the caveats in the documentation: https://pandas.pydata.org/pandas-docs/stable/user_guide/indexing.html#returning-a-view-versus-a-copy\n",
      "  return super().replace(\n",
      "<ipython-input-41-f735e1f5dc6c>:6: SettingWithCopyWarning: \n",
      "A value is trying to be set on a copy of a slice from a DataFrame.\n",
      "Try using .loc[row_indexer,col_indexer] = value instead\n",
      "\n",
      "See the caveats in the documentation: https://pandas.pydata.org/pandas-docs/stable/user_guide/indexing.html#returning-a-view-versus-a-copy\n",
      "  df_2['Age1stCode'] = pd.to_numeric(df_2['Age1stCode'], errors='coerce')\n",
      "/Users/zhongqi_yue/opt/anaconda3/lib/python3.8/site-packages/pandas/core/series.py:4463: SettingWithCopyWarning: \n",
      "A value is trying to be set on a copy of a slice from a DataFrame\n",
      "\n",
      "See the caveats in the documentation: https://pandas.pydata.org/pandas-docs/stable/user_guide/indexing.html#returning-a-view-versus-a-copy\n",
      "  return super().fillna(\n"
     ]
    },
    {
     "data": {
      "text/plain": [
       "Age1stCode    0\n",
       "MainBranch    0\n",
       "dtype: int64"
      ]
     },
     "execution_count": 41,
     "metadata": {},
     "output_type": "execute_result"
    }
   ],
   "source": [
    "# Clean the data \n",
    "# Drop any missing values in MainBranch column and replace some object in Age1stCode column\n",
    "df_2.dropna(subset=['MainBranch'], axis=0, inplace=True)\n",
    "df_2['Age1stCode'].replace(to_replace='Younger than 5 years', value='4', inplace=True)\n",
    "# convert data type and fill in any NaN \n",
    "df_2['Age1stCode'] = pd.to_numeric(df_2['Age1stCode'], errors='coerce')\n",
    "df_2['Age1stCode'].fillna(np.mean(df_2['Age1stCode']), inplace=True)\n",
    "df_2.isnull().sum()"
   ]
  },
  {
   "cell_type": "code",
   "execution_count": 42,
   "id": "4ae1aa89",
   "metadata": {},
   "outputs": [
    {
     "name": "stdout",
     "output_type": "stream",
     "text": [
      "<class 'pandas.core.frame.DataFrame'>\n",
      "Int64Index: 64162 entries, 0 to 64161\n",
      "Data columns (total 2 columns):\n",
      " #   Column      Non-Null Count  Dtype  \n",
      "---  ------      --------------  -----  \n",
      " 0   Age1stCode  64162 non-null  float64\n",
      " 1   MainBranch  64162 non-null  object \n",
      "dtypes: float64(1), object(1)\n",
      "memory usage: 1.5+ MB\n"
     ]
    }
   ],
   "source": [
    "df_2.info()"
   ]
  },
  {
   "cell_type": "code",
   "execution_count": 43,
   "id": "450bb5a1",
   "metadata": {},
   "outputs": [
    {
     "data": {
      "text/plain": [
       "13.0"
      ]
     },
     "execution_count": 43,
     "metadata": {},
     "output_type": "execute_result"
    }
   ],
   "source": [
    "# find the 25th percentile in Age1stCode column as the standard of \"starting coding early\"\n",
    "quantile_25th = df_2['Age1stCode'].quantile(q=0.25,interpolation='linear')\n",
    "quantile_25th"
   ]
  },
  {
   "cell_type": "code",
   "execution_count": 44,
   "id": "480222b4",
   "metadata": {},
   "outputs": [
    {
     "name": "stdout",
     "output_type": "stream",
     "text": [
      "<class 'pandas.core.frame.DataFrame'>\n",
      "Int64Index: 20171 entries, 0 to 64154\n",
      "Data columns (total 2 columns):\n",
      " #   Column      Non-Null Count  Dtype  \n",
      "---  ------      --------------  -----  \n",
      " 0   Age1stCode  20171 non-null  float64\n",
      " 1   MainBranch  20171 non-null  object \n",
      "dtypes: float64(1), object(1)\n",
      "memory usage: 472.8+ KB\n"
     ]
    }
   ],
   "source": [
    "# divide dataframe into two, one for people who start early(at the age less than or equal to 13)\n",
    "df2_less = df_2.loc[df_2.Age1stCode <= quantile_25th]\n",
    "df2_less.info()"
   ]
  },
  {
   "cell_type": "code",
   "execution_count": 45,
   "id": "8605ad2a",
   "metadata": {},
   "outputs": [
    {
     "name": "stdout",
     "output_type": "stream",
     "text": [
      "<class 'pandas.core.frame.DataFrame'>\n",
      "Int64Index: 43991 entries, 1 to 64161\n",
      "Data columns (total 2 columns):\n",
      " #   Column      Non-Null Count  Dtype  \n",
      "---  ------      --------------  -----  \n",
      " 0   Age1stCode  43991 non-null  float64\n",
      " 1   MainBranch  43991 non-null  object \n",
      "dtypes: float64(1), object(1)\n",
      "memory usage: 1.0+ MB\n"
     ]
    }
   ],
   "source": [
    "# for people who start early(at the age greater than 13)\n",
    "df2_more = df_2.loc[df_2.Age1stCode > quantile_25th]\n",
    "df2_more.info()"
   ]
  },
  {
   "cell_type": "code",
   "execution_count": 46,
   "id": "f52e17fc",
   "metadata": {},
   "outputs": [
    {
     "data": {
      "text/plain": [
       "<AxesSubplot:ylabel='None'>"
      ]
     },
     "execution_count": 46,
     "metadata": {},
     "output_type": "execute_result"
    },
    {
     "data": {
      "image/png": "[encoded data removed]",
      "text/plain": [
       "<Figure size 432x288 with 1 Axes>"
      ]
     },
     "metadata": {},
     "output_type": "display_data"
    }
   ],
   "source": [
    "# Visualization of data\n",
    "# use groupby method to graph a pie chart for people who start early ans see what they do now\n",
    "colors = ['#ff9999','#66b3ff','#99ff99','#ffcc99', '#9467bd']\n",
    "explode = (0.1, 0.1, 0.1, 0.1, 0.1)\n",
    "df2_less.groupby('MainBranch').size().plot(kind='pie', autopct='%.2f', colors=colors, explode=explode, shadow=True, startangle=45)"
   ]
  },
  {
   "cell_type": "code",
   "execution_count": 47,
   "id": "5bd7a751",
   "metadata": {},
   "outputs": [
    {
     "data": {
      "text/plain": [
       "<AxesSubplot:ylabel='None'>"
      ]
     },
     "execution_count": 47,
     "metadata": {},
     "output_type": "execute_result"
    },
    {
     "data": {
      "image/png": "[encoded data removed]",
      "text/plain": [
       "<Figure size 432x288 with 1 Axes>"
      ]
     },
     "metadata": {},
     "output_type": "display_data"
    }
   ],
   "source": [
    "# use groupby method to graph a pie chart for people who do not start early ans see what they do now\n",
    "df2_more.groupby('MainBranch').size().plot(kind='pie', autopct='%.2f', colors=colors, explode=explode, shadow=True)"
   ]
  },
  {
   "cell_type": "markdown",
   "id": "f4491885",
   "metadata": {},
   "source": [
    "#### Question 3: Are people with more coding experience paid more?"
   ]
  },
  {
   "cell_type": "code",
   "execution_count": 48,
   "id": "9e3edc60",
   "metadata": {},
   "outputs": [
    {
     "name": "stdout",
     "output_type": "stream",
     "text": [
      "<class 'pandas.core.frame.DataFrame'>\n",
      "RangeIndex: 64461 entries, 0 to 64460\n",
      "Data columns (total 2 columns):\n",
      " #   Column         Non-Null Count  Dtype  \n",
      "---  ------         --------------  -----  \n",
      " 0   YearsCode      57684 non-null  object \n",
      " 1   ConvertedComp  34756 non-null  float64\n",
      "dtypes: float64(1), object(1)\n",
      "memory usage: 1007.3+ KB\n"
     ]
    }
   ],
   "source": [
    "# Gather and Access data\n",
    "# slice the date for our third question\n",
    "df_3 = df[['YearsCode', 'ConvertedComp']]\n",
    "df_3.info()"
   ]
  },
  {
   "cell_type": "code",
   "execution_count": 49,
   "id": "03cedc8f",
   "metadata": {},
   "outputs": [
    {
     "name": "stdout",
     "output_type": "stream",
     "text": [
      "<class 'pandas.core.frame.DataFrame'>\n",
      "Int64Index: 34756 entries, 7 to 64154\n",
      "Data columns (total 2 columns):\n",
      " #   Column         Non-Null Count  Dtype  \n",
      "---  ------         --------------  -----  \n",
      " 0   YearsCode      34630 non-null  object \n",
      " 1   ConvertedComp  34756 non-null  float64\n",
      "dtypes: float64(1), object(1)\n",
      "memory usage: 814.6+ KB\n"
     ]
    },
    {
     "name": "stderr",
     "output_type": "stream",
     "text": [
      "<ipython-input-49-40820082f133>:3: SettingWithCopyWarning: \n",
      "A value is trying to be set on a copy of a slice from a DataFrame\n",
      "\n",
      "See the caveats in the documentation: https://pandas.pydata.org/pandas-docs/stable/user_guide/indexing.html#returning-a-view-versus-a-copy\n",
      "  df_3.dropna(subset=['ConvertedComp'], axis=0, inplace=True)\n"
     ]
    }
   ],
   "source": [
    "# Clean the data\n",
    "# drop any NaN in ConvertedComp column\n",
    "df_3.dropna(subset=['ConvertedComp'], axis=0, inplace=True)\n",
    "df_3.info()"
   ]
  },
  {
   "cell_type": "code",
   "execution_count": 50,
   "id": "1edf8dd2",
   "metadata": {},
   "outputs": [
    {
     "data": {
      "text/plain": [
       "10                    3047\n",
       "8                     2080\n",
       "6                     2015\n",
       "7                     2009\n",
       "5                     1987\n",
       "15                    1907\n",
       "20                    1877\n",
       "12                    1698\n",
       "9                     1534\n",
       "4                     1282\n",
       "11                    1190\n",
       "13                    1089\n",
       "14                    1083\n",
       "3                      979\n",
       "25                     952\n",
       "16                     921\n",
       "18                     846\n",
       "17                     809\n",
       "30                     747\n",
       "22                     606\n",
       "2                      511\n",
       "19                     502\n",
       "23                     457\n",
       "21                     425\n",
       "35                     423\n",
       "40                     350\n",
       "24                     336\n",
       "26                     294\n",
       "28                     248\n",
       "27                     246\n",
       "32                     224\n",
       "1                      203\n",
       "38                     198\n",
       "37                     184\n",
       "36                     167\n",
       "34                     163\n",
       "33                     157\n",
       "29                     133\n",
       "31                     120\n",
       "39                     105\n",
       "Less than 1 year        82\n",
       "42                      78\n",
       "41                      67\n",
       "43                      60\n",
       "45                      56\n",
       "More than 50 years      52\n",
       "44                      45\n",
       "46                      22\n",
       "50                      20\n",
       "47                      17\n",
       "48                      17\n",
       "49                      10\n",
       "Name: YearsCode, dtype: int64"
      ]
     },
     "execution_count": 50,
     "metadata": {},
     "output_type": "execute_result"
    }
   ],
   "source": [
    "# check all unique values in this column\n",
    "df_3['YearsCode'].value_counts()"
   ]
  },
  {
   "cell_type": "code",
   "execution_count": 51,
   "id": "3d0ecef4",
   "metadata": {},
   "outputs": [
    {
     "name": "stderr",
     "output_type": "stream",
     "text": [
      "/Users/zhongqi_yue/opt/anaconda3/lib/python3.8/site-packages/pandas/core/series.py:4509: SettingWithCopyWarning: \n",
      "A value is trying to be set on a copy of a slice from a DataFrame\n",
      "\n",
      "See the caveats in the documentation: https://pandas.pydata.org/pandas-docs/stable/user_guide/indexing.html#returning-a-view-versus-a-copy\n",
      "  return super().replace(\n"
     ]
    },
    {
     "data": {
      "text/plain": [
       "10    3047\n",
       "8     2080\n",
       "6     2015\n",
       "7     2009\n",
       "5     1987\n",
       "15    1907\n",
       "20    1877\n",
       "12    1698\n",
       "9     1534\n",
       "4     1282\n",
       "11    1190\n",
       "13    1089\n",
       "14    1083\n",
       "3      979\n",
       "25     952\n",
       "16     921\n",
       "18     846\n",
       "17     809\n",
       "30     747\n",
       "22     606\n",
       "2      511\n",
       "19     502\n",
       "23     457\n",
       "21     425\n",
       "35     423\n",
       "40     350\n",
       "24     336\n",
       "26     294\n",
       "1      285\n",
       "28     248\n",
       "27     246\n",
       "32     224\n",
       "38     198\n",
       "37     184\n",
       "36     167\n",
       "34     163\n",
       "33     157\n",
       "29     133\n",
       "31     120\n",
       "39     105\n",
       "42      78\n",
       "50      72\n",
       "41      67\n",
       "43      60\n",
       "45      56\n",
       "44      45\n",
       "46      22\n",
       "48      17\n",
       "47      17\n",
       "49      10\n",
       "Name: YearsCode, dtype: int64"
      ]
     },
     "execution_count": 51,
     "metadata": {},
     "output_type": "execute_result"
    }
   ],
   "source": [
    "# replace the two categorical object\n",
    "# We choose 1 because our smallest unit in this survey is year. For people who only code less than a year, we can assume 1.\n",
    "# For people who code for over 50 years, we replace with 50, under the consideration that 50 is already half of people's life\n",
    "df_3['YearsCode'].replace(to_replace={'Less than 1 year': '1', 'More than 50 years': '50'}, inplace=True)\n",
    "df_3['YearsCode'].value_counts()"
   ]
  },
  {
   "cell_type": "code",
   "execution_count": null,
   "id": "0fe9067f",
   "metadata": {},
   "outputs": [],
   "source": []
  },
  {
   "cell_type": "code",
   "execution_count": 52,
   "id": "f2e26e5a",
   "metadata": {},
   "outputs": [
    {
     "name": "stdout",
     "output_type": "stream",
     "text": [
      "<class 'pandas.core.frame.DataFrame'>\n",
      "Int64Index: 34756 entries, 7 to 64154\n",
      "Data columns (total 2 columns):\n",
      " #   Column         Non-Null Count  Dtype  \n",
      "---  ------         --------------  -----  \n",
      " 0   YearsCode      34756 non-null  float64\n",
      " 1   ConvertedComp  34756 non-null  float64\n",
      "dtypes: float64(2)\n",
      "memory usage: 814.6 KB\n"
     ]
    },
    {
     "name": "stderr",
     "output_type": "stream",
     "text": [
      "<ipython-input-52-0cd7076e4af3>:2: SettingWithCopyWarning: \n",
      "A value is trying to be set on a copy of a slice from a DataFrame.\n",
      "Try using .loc[row_indexer,col_indexer] = value instead\n",
      "\n",
      "See the caveats in the documentation: https://pandas.pydata.org/pandas-docs/stable/user_guide/indexing.html#returning-a-view-versus-a-copy\n",
      "  df_3['YearsCode'] = pd.to_numeric(df_3['YearsCode'], errors='coerce')\n",
      "/Users/zhongqi_yue/opt/anaconda3/lib/python3.8/site-packages/pandas/core/series.py:4463: SettingWithCopyWarning: \n",
      "A value is trying to be set on a copy of a slice from a DataFrame\n",
      "\n",
      "See the caveats in the documentation: https://pandas.pydata.org/pandas-docs/stable/user_guide/indexing.html#returning-a-view-versus-a-copy\n",
      "  return super().fillna(\n"
     ]
    }
   ],
   "source": [
    "# convert categorical variabes to numerical ones\n",
    "df_3['YearsCode'] = pd.to_numeric(df_3['YearsCode'], errors='coerce')\n",
    "df_3['YearsCode'].fillna(np.mean(df_3['YearsCode']), inplace=True)\n",
    "df_3.info()"
   ]
  },
  {
   "cell_type": "code",
   "execution_count": 53,
   "id": "76b5d30b",
   "metadata": {},
   "outputs": [
    {
     "data": {
      "text/plain": [
       "<AxesSubplot:xlabel='YearsCode', ylabel='ConvertedComp'>"
      ]
     },
     "execution_count": 53,
     "metadata": {},
     "output_type": "execute_result"
    },
    {
     "data": {
      "image/png": "[encoded data removed]",
      "text/plain": [
       "<Figure size 432x288 with 1 Axes>"
      ]
     },
     "metadata": {
      "needs_background": "light"
     },
     "output_type": "display_data"
    }
   ],
   "source": [
    "# Visualization of data\n",
    "# plot a scatterplot to see if there is obvious trend\n",
    "sns.scatterplot(x='YearsCode', y='ConvertedComp', data=df_3)"
   ]
  },
  {
   "cell_type": "markdown",
   "id": "62bd8ca7",
   "metadata": {},
   "source": [
    "### Some conclusions from the above analysis"
   ]
  },
  {
   "cell_type": "markdown",
   "id": "066f9734",
   "metadata": {},
   "source": [
    "1, There are no obvious relationship between person's first coding age and their salary now. However, from the scatter plot, we can see that people who start coding after 30 will have a lower income generally.<br>\n",
    "2, People can be a professional developer even if they do not start early.<br>\n",
    "3, More coding experience does not necessarily mean more salary.<br>"
   ]
  },
  {
   "cell_type": "markdown",
   "id": "8dea89fd",
   "metadata": {},
   "source": [
    "One more conclusion(not for the purpose of these three questions):<br>\n",
    "Most people are paid less than 1.00 and there are some people who are paid at around 2.00. Less people are paid in the range between 1.00 to 2.00. Hence, only few people can achive really high salary and there is not much \"middle\" salary."
   ]
  },
  {
   "cell_type": "code",
   "execution_count": null,
   "id": "461ae075",
   "metadata": {},
   "outputs": [],
   "source": []
  }
 ],
 "metadata": {
  "kernelspec": {
   "display_name": "Python 3",
   "language": "python",
   "name": "python3"
  },
  "language_info": {
   "codemirror_mode": {
    "name": "ipython",
    "version": 3
   },
   "file_extension": ".py",
   "mimetype": "text/x-python",
   "name": "python",
   "nbconvert_exporter": "python",
   "pygments_lexer": "ipython3",
   "version": "3.8.8"
  }
 },
 "nbformat": 4,
 "nbformat_minor": 5
}
